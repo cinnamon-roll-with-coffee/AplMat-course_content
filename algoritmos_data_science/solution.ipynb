{
 "cells": [
  {
   "cell_type": "markdown",
   "metadata": {},
   "source": [
    "># Técnicas e Algoritmos em Ciência de Dados \n",
    ">## Assessed Coursework 2\n",
    "Tarla Lemos de Andrade"
   ]
  },
  {
   "cell_type": "markdown",
   "metadata": {},
   "source": [
    " # Part 1 – Backpropagation"
   ]
  },
  {
   "cell_type": "markdown",
   "metadata": {},
   "source": [
    "Download the file “Part1.tsv” from the ECLASS platform. In this part, you will build a neural\n",
    "network with a specific architecture and train it with the backpropagation algorithm that you\n",
    "will implement. \n",
    "\n",
    "Here are the steps that you will need to implement:\n",
    "\n",
    "a) Load the data into a pandas DataFrame, and get a scikit-learn compatible dataset."
   ]
  },
  {
   "cell_type": "code",
   "execution_count": 1,
   "metadata": {},
   "outputs": [],
   "source": [
    "import pandas as pd\n",
    "import numpy as np\n",
    "import scikitplot as skplt\n",
    "import matplotlib.pyplot as plt\n",
    "from sklearn.metrics import accuracy_score\n",
    "from sklearn.metrics import confusion_matrix\n",
    "import seaborn as sns"
   ]
  },
  {
   "cell_type": "code",
   "execution_count": 74,
   "metadata": {},
   "outputs": [],
   "source": [
    "df = pd.read_csv(\"Part 1.tsv\",sep='\\t')\n",
    "\n",
    "y = df[\"label\"].values\n",
    "X = df.iloc[:,df.columns != 'label'].values"
   ]
  },
  {
   "cell_type": "markdown",
   "metadata": {},
   "source": [
    "b) Make a 70%/30% split of the dataset for training and testing respectively."
   ]
  },
  {
   "cell_type": "code",
   "execution_count": 23,
   "metadata": {},
   "outputs": [],
   "source": [
    "from sklearn.model_selection import train_test_split\n",
    "X_train, X_test, y_train, y_test = train_test_split(X, y, test_size=0.3, random_state=0)"
   ]
  },
  {
   "cell_type": "markdown",
   "metadata": {},
   "source": [
    "c) Using numpy, implement the neural network architecture from Figure 1. Note that $\\sigma$\n",
    "denotes the sigmoid function, tanh denotes the hyperbolic tangent and the vertical\n",
    "(single) arrows denote the bias term. You will need to implement the backpropagation\n",
    "algorithm to learn the weights of this network by gradient descent, that is:\n",
    "\n",
    "* The forward pass\n",
    "* The backward pass\n",
    "* Weight updates\n",
    "\n",
    "Note: your implementation must rely on numpy only, and it must not use any\n",
    "specialized framework for backpropagation. In other words, your code should\n",
    "look something similar to the one we saw in the backpropagation lab."
   ]
  },
  {
   "cell_type": "code",
   "execution_count": 76,
   "metadata": {},
   "outputs": [],
   "source": [
    "def sigmoid(Z):\n",
    "    return 1.0 / (1.0 + np.exp(-Z))\n",
    "\n",
    "def sigmoid_derivative(output):\n",
    "    return output * (1.0 - output)\n",
    "\n",
    "def tanh_derivative(output):\n",
    "    return ((np.cosh(output))**2 - (np.sinh(output))**2)/(np.cosh(output))**2\n",
    "\n",
    "def cost_function(y, y_hat):\n",
    "    return -np.sum(y*(np.log(y_hat)) + (1 - y)*np.log(1 - y_hat)) / y.shape[0]\n",
    "\n",
    "def cost_gradient(y, y_hat):\n",
    "    return -np.divide(y, y_hat) + np.divide(1.0 - y, 1.0 - y_hat)"
   ]
  },
  {
   "cell_type": "code",
   "execution_count": 77,
   "metadata": {},
   "outputs": [],
   "source": [
    "def train_myNetwork(X_train, y_train):\n",
    "    epochs = 100\n",
    "    lr = 0.01\n",
    "\n",
    "    # W1 connects first two inputs to the hidden layer\n",
    "    W1 = np.random.random((1, 2 + 1)) # bias term integrated\n",
    "    # W2 connects the 2 last input to output layer\n",
    "    W2 = np.random.random((1, 2 + 1))\n",
    "    # W3 connects hidden layer to output layer\n",
    "    W3 = np.random.random((1, 1 + 1))\n",
    "    \n",
    "    losses = []\n",
    "\n",
    "    for epoch in range(epochs):\n",
    "        epoch_losses = []\n",
    "        \n",
    "        for x_i, y_i in zip(X_train, y_train): \n",
    "           \n",
    "            x_i = x_i.reshape(1, -1)\n",
    "            y_i = y_i.reshape(1, -1)\n",
    "\n",
    "            \n",
    "            #FORWARD PASS\n",
    "            # first two inputs and bias term\n",
    "            A0_1_2 = np.hstack([x_i[:, 0:2], np.ones((x_i.shape[0],1))]).T \n",
    "                        \n",
    "            Z1 = W1 @ A0_1_2 #linear transformation of the two first inputs\n",
    "            A1 = np.tanh(Z1) #non-linear transformation \n",
    "            A1 = np.vstack([A1, np.ones((1, A1.shape[1]))])\n",
    "            \n",
    "            A0_3_4 = np.hstack([x_i[:, 2:4], np.ones((x_i.shape[0],1))]).T \n",
    "            Z2_1 = W2 @ A0_3_4 #linear transformation of the two last inputs\n",
    "            Z2_2 = W3 @ A1 #linear transformation of the hidden layer\n",
    "            Z2 = Z2_1+Z2_2\n",
    "            \n",
    "            A2 = sigmoid(Z2)\n",
    "\n",
    "            #BACKWARD PASS\n",
    "            dA2 = cost_gradient(y_i, A2) \n",
    "            \n",
    "            dZ2 = dA2 * sigmoid_derivative(sigmoid(Z2)) \n",
    "            dW3 = dZ2 @ A2.T\n",
    "            \n",
    "            dA1 = W3[:,:-1].T @ dZ2\n",
    "            dZ1 = dA1 * tanh_derivative(np.tanh(Z1))\n",
    "            dW1 = dZ1 @ A0_1_2.T\n",
    "            \n",
    "            dW2 = dZ2 @ A0_3_4.T\n",
    "            \n",
    "            # UPDATE WEIGHTS\n",
    "            W1 -= lr * dW1\n",
    "            W2 -= lr * dW2\n",
    "            W2 -= lr * dW3\n",
    "            \n",
    "            #error\n",
    "            epoch_losses.append(cost_function(y_i, A2))\n",
    "            \n",
    "        losses.append(np.mean(epoch_losses))\n",
    "        \n",
    "    return ((W1,W2,W3),losses)\n",
    "               "
   ]
  },
  {
   "cell_type": "code",
   "execution_count": 78,
   "metadata": {},
   "outputs": [],
   "source": [
    "def predict(network,X_test):\n",
    "    W1 = network[0]\n",
    "    W2 = network[1]\n",
    "    W3 = network[2]\n",
    "    \n",
    "    pred = []\n",
    "    prob = []\n",
    "    for x_i in X_test:\n",
    "        x = x_i.reshape(1, -1)\n",
    "        \n",
    "        A0_1_2 = np.hstack([x[:, 0:2], np.ones((1,1))]).T \n",
    "                        \n",
    "        Z1 = W1 @ A0_1_2 \n",
    "        A1 = np.tanh(Z1) \n",
    "        A1 = np.vstack([A1, np.ones((1, A1.shape[1]))])\n",
    "            \n",
    "        A0_3_4 = np.hstack([x[:, 2:4], np.ones((x.shape[0],1))]).T \n",
    "        Z2_1 = W2 @ A0_3_4 \n",
    "        Z2_2 = W3 @ A1 \n",
    "        Z2 = Z2_1+Z2_2\n",
    "            \n",
    "        A2 = sigmoid(Z2)\n",
    "       \n",
    "        y_pred = A2.squeeze().round()\n",
    "        pred.append(y_pred)\n",
    "        prob.append([0,1] if y_pred==1.0 else [1,0])\n",
    "        \n",
    "    return (pred, prob)       "
   ]
  },
  {
   "cell_type": "markdown",
   "metadata": {},
   "source": [
    "d) Evaluate the trained model on your test set using the following:\n",
    "* Accuracy\n",
    "* AUC-PR\n",
    "* AUC-ROC\n",
    "* printing the confusion matrix\n",
    "\n",
    "Note: In this step, you can use scikit-learn tools, no need to implement these"
   ]
  },
  {
   "cell_type": "code",
   "execution_count": 79,
   "metadata": {},
   "outputs": [
    {
     "name": "stdout",
     "output_type": "stream",
     "text": [
      "training accuracy 0.837\n",
      "testing accuracy 0.839\n"
     ]
    }
   ],
   "source": [
    "#Accuracy\n",
    "network, loss = train_myNetwork(X_train, y_train)\n",
    "\n",
    "y_pred, prob = predict(network,X_train)\n",
    "acc = accuracy_score(y_train, y_pred)\n",
    "print(f'training accuracy {acc:.3f}')\n",
    "\n",
    "y_pred, prob = predict(network, X_test)\n",
    "acc = accuracy_score(y_test, y_pred)\n",
    "print(f'testing accuracy {acc:.3f}')"
   ]
  },
  {
   "cell_type": "code",
   "execution_count": 80,
   "metadata": {},
   "outputs": [
    {
     "data": {
      "image/png": "[encoded data removed]",
      "text/plain": [
       "<Figure size 432x288 with 2 Axes>"
      ]
     },
     "metadata": {
      "needs_background": "light"
     },
     "output_type": "display_data"
    }
   ],
   "source": [
    "#Confusion Matrix\n",
    "cm = confusion_matrix(y_test, y_pred)\n",
    "\n",
    "fig, ax = plt.subplots(figsize=(6,4))\n",
    "sns.heatmap(cm, annot=True)\n",
    "ax.set_ylabel('True Label')\n",
    "ax.set_xlabel('Predicted Label')\n",
    "plt.title(\"Confusion matrix\")\n",
    "plt.show()\n"
   ]
  },
  {
   "cell_type": "code",
   "execution_count": 81,
   "metadata": {},
   "outputs": [
    {
     "name": "stderr",
     "output_type": "stream",
     "text": [
      "C:\\Users\\tarla\\anaconda3\\lib\\site-packages\\sklearn\\utils\\deprecation.py:86: FutureWarning: Function plot_roc_curve is deprecated; This will be removed in v0.5.0. Please use scikitplot.metrics.plot_roc instead.\n",
      "  warnings.warn(msg, category=FutureWarning)\n"
     ]
    },
    {
     "data": {
      "image/png": "[encoded data removed]",
      "text/plain": [
       "<Figure size 432x288 with 1 Axes>"
      ]
     },
     "metadata": {
      "needs_background": "light"
     },
     "output_type": "display_data"
    }
   ],
   "source": [
    "# AUC_ROC\n",
    "y_true = y_test \n",
    "y_probas = prob\n",
    "skplt.metrics.plot_roc_curve(y_true, y_probas)\n",
    "plt.show()"
   ]
  },
  {
   "cell_type": "code",
   "execution_count": 82,
   "metadata": {},
   "outputs": [
    {
     "name": "stderr",
     "output_type": "stream",
     "text": [
      "C:\\Users\\tarla\\anaconda3\\lib\\site-packages\\sklearn\\utils\\deprecation.py:86: FutureWarning: Function plot_precision_recall_curve is deprecated; This will be removed in v0.5.0. Please use scikitplot.metrics.plot_precision_recall instead.\n",
      "  warnings.warn(msg, category=FutureWarning)\n"
     ]
    },
    {
     "data": {
      "text/plain": [
       "<AxesSubplot:title={'center':'Precision-Recall Curve'}, xlabel='Recall', ylabel='Precision'>"
      ]
     },
     "execution_count": 82,
     "metadata": {},
     "output_type": "execute_result"
    },
    {
     "data": {
      "image/png": "[encoded data removed]",
      "text/plain": [
       "<Figure size 432x288 with 1 Axes>"
      ]
     },
     "metadata": {
      "needs_background": "light"
     },
     "output_type": "display_data"
    }
   ],
   "source": [
    "# AUC_PR\n",
    "skplt.metrics.plot_precision_recall_curve(y_true, y_probas)"
   ]
  },
  {
   "cell_type": "markdown",
   "metadata": {},
   "source": [
    "e) During each epoch of training, collect the value of the error, and make a plot with the\n",
    "epoch number in the X axis, and the error on the Y axis.\n"
   ]
  },
  {
   "cell_type": "code",
   "execution_count": 83,
   "metadata": {},
   "outputs": [
    {
     "data": {
      "image/png": "[encoded data removed]",
      "text/plain": [
       "<Figure size 432x288 with 1 Axes>"
      ]
     },
     "metadata": {
      "needs_background": "light"
     },
     "output_type": "display_data"
    }
   ],
   "source": [
    "fig, ax = plt.subplots(figsize=(6,4))\n",
    "sns.lineplot(x=range(len(loss)), y=loss, ax=ax, label='Loss')\n",
    "ax.set_xlabel('Epoch')\n",
    "ax.set_ylabel('mean error')\n",
    "plt.title(\"Loss in Backpropagation training\")\n",
    "plt.show()"
   ]
  },
  {
   "cell_type": "markdown",
   "metadata": {},
   "source": [
    "# Part 2 – Bootstrap aggregation"
   ]
  },
  {
   "cell_type": "markdown",
   "metadata": {},
   "source": [
    "Download the Census Income dataset (https://archive.ics.uci.edu/ml/datasets/Adult). In this\n",
    "part, you will build a bagged trees model for classification.\n",
    "\n",
    "Here are the steps that you will need to implement:\n",
    "\n",
    "a) Load the data into a pandas DataFrame, and get a scikit-learn compatible dataset."
   ]
  },
  {
   "cell_type": "code",
   "execution_count": 20,
   "metadata": {},
   "outputs": [],
   "source": [
    "df2 = pd.read_csv('adult.data',header=None)\n",
    "X = df2.iloc[:,:-1].values\n",
    "y = df2.iloc[:,-1].values"
   ]
  },
  {
   "cell_type": "code",
   "execution_count": 21,
   "metadata": {},
   "outputs": [
    {
     "data": {
      "text/html": [
       "<div>\n",
       "<style scoped>\n",
       "    .dataframe tbody tr th:only-of-type {\n",
       "        vertical-align: middle;\n",
       "    }\n",
       "\n",
       "    .dataframe tbody tr th {\n",
       "        vertical-align: top;\n",
       "    }\n",
       "\n",
       "    .dataframe thead th {\n",
       "        text-align: right;\n",
       "    }\n",
       "</style>\n",
       "<table border=\"1\" class=\"dataframe\">\n",
       "  <thead>\n",
       "    <tr style=\"text-align: right;\">\n",
       "      <th></th>\n",
       "      <th>0</th>\n",
       "      <th>1</th>\n",
       "      <th>2</th>\n",
       "      <th>3</th>\n",
       "      <th>4</th>\n",
       "      <th>5</th>\n",
       "      <th>6</th>\n",
       "      <th>7</th>\n",
       "      <th>8</th>\n",
       "      <th>9</th>\n",
       "      <th>10</th>\n",
       "      <th>11</th>\n",
       "      <th>12</th>\n",
       "      <th>13</th>\n",
       "      <th>14</th>\n",
       "    </tr>\n",
       "  </thead>\n",
       "  <tbody>\n",
       "    <tr>\n",
       "      <th>0</th>\n",
       "      <td>39</td>\n",
       "      <td>State-gov</td>\n",
       "      <td>77516</td>\n",
       "      <td>Bachelors</td>\n",
       "      <td>13</td>\n",
       "      <td>Never-married</td>\n",
       "      <td>Adm-clerical</td>\n",
       "      <td>Not-in-family</td>\n",
       "      <td>White</td>\n",
       "      <td>Male</td>\n",
       "      <td>2174</td>\n",
       "      <td>0</td>\n",
       "      <td>40</td>\n",
       "      <td>United-States</td>\n",
       "      <td>&lt;=50K</td>\n",
       "    </tr>\n",
       "    <tr>\n",
       "      <th>1</th>\n",
       "      <td>50</td>\n",
       "      <td>Self-emp-not-inc</td>\n",
       "      <td>83311</td>\n",
       "      <td>Bachelors</td>\n",
       "      <td>13</td>\n",
       "      <td>Married-civ-spouse</td>\n",
       "      <td>Exec-managerial</td>\n",
       "      <td>Husband</td>\n",
       "      <td>White</td>\n",
       "      <td>Male</td>\n",
       "      <td>0</td>\n",
       "      <td>0</td>\n",
       "      <td>13</td>\n",
       "      <td>United-States</td>\n",
       "      <td>&lt;=50K</td>\n",
       "    </tr>\n",
       "    <tr>\n",
       "      <th>2</th>\n",
       "      <td>38</td>\n",
       "      <td>Private</td>\n",
       "      <td>215646</td>\n",
       "      <td>HS-grad</td>\n",
       "      <td>9</td>\n",
       "      <td>Divorced</td>\n",
       "      <td>Handlers-cleaners</td>\n",
       "      <td>Not-in-family</td>\n",
       "      <td>White</td>\n",
       "      <td>Male</td>\n",
       "      <td>0</td>\n",
       "      <td>0</td>\n",
       "      <td>40</td>\n",
       "      <td>United-States</td>\n",
       "      <td>&lt;=50K</td>\n",
       "    </tr>\n",
       "    <tr>\n",
       "      <th>3</th>\n",
       "      <td>53</td>\n",
       "      <td>Private</td>\n",
       "      <td>234721</td>\n",
       "      <td>11th</td>\n",
       "      <td>7</td>\n",
       "      <td>Married-civ-spouse</td>\n",
       "      <td>Handlers-cleaners</td>\n",
       "      <td>Husband</td>\n",
       "      <td>Black</td>\n",
       "      <td>Male</td>\n",
       "      <td>0</td>\n",
       "      <td>0</td>\n",
       "      <td>40</td>\n",
       "      <td>United-States</td>\n",
       "      <td>&lt;=50K</td>\n",
       "    </tr>\n",
       "    <tr>\n",
       "      <th>4</th>\n",
       "      <td>28</td>\n",
       "      <td>Private</td>\n",
       "      <td>338409</td>\n",
       "      <td>Bachelors</td>\n",
       "      <td>13</td>\n",
       "      <td>Married-civ-spouse</td>\n",
       "      <td>Prof-specialty</td>\n",
       "      <td>Wife</td>\n",
       "      <td>Black</td>\n",
       "      <td>Female</td>\n",
       "      <td>0</td>\n",
       "      <td>0</td>\n",
       "      <td>40</td>\n",
       "      <td>Cuba</td>\n",
       "      <td>&lt;=50K</td>\n",
       "    </tr>\n",
       "  </tbody>\n",
       "</table>\n",
       "</div>"
      ],
      "text/plain": [
       "   0                  1       2           3   4                    5   \\\n",
       "0  39          State-gov   77516   Bachelors  13        Never-married   \n",
       "1  50   Self-emp-not-inc   83311   Bachelors  13   Married-civ-spouse   \n",
       "2  38            Private  215646     HS-grad   9             Divorced   \n",
       "3  53            Private  234721        11th   7   Married-civ-spouse   \n",
       "4  28            Private  338409   Bachelors  13   Married-civ-spouse   \n",
       "\n",
       "                   6               7       8        9     10  11  12  \\\n",
       "0        Adm-clerical   Not-in-family   White     Male  2174   0  40   \n",
       "1     Exec-managerial         Husband   White     Male     0   0  13   \n",
       "2   Handlers-cleaners   Not-in-family   White     Male     0   0  40   \n",
       "3   Handlers-cleaners         Husband   Black     Male     0   0  40   \n",
       "4      Prof-specialty            Wife   Black   Female     0   0  40   \n",
       "\n",
       "               13      14  \n",
       "0   United-States   <=50K  \n",
       "1   United-States   <=50K  \n",
       "2   United-States   <=50K  \n",
       "3   United-States   <=50K  \n",
       "4            Cuba   <=50K  "
      ]
     },
     "execution_count": 21,
     "metadata": {},
     "output_type": "execute_result"
    }
   ],
   "source": [
    "df2.head()"
   ]
  },
  {
   "cell_type": "markdown",
   "metadata": {},
   "source": [
    "b) Make a 70%/30% split of the dataset for training and testing respectively"
   ]
  },
  {
   "cell_type": "code",
   "execution_count": 24,
   "metadata": {},
   "outputs": [],
   "source": [
    "X_train, X_test, y_train, y_test = train_test_split(X, y, test_size=0.3, random_state=0)\n",
    "\n",
    "#X_train = X_train[:30,:]\n",
    "#y_train = y_train[:30]"
   ]
  },
  {
   "cell_type": "markdown",
   "metadata": {},
   "source": [
    "c) Implement a bagged trees model. The model should have:\n",
    "\n",
    "* A parameter $B$, to decide on the number of bootstrapped training sets.\n",
    "* Parameters for controlling the growth of trees. You need to implement at least two of the following:\n",
    "     - Maximum level (or depth) of the tree\n",
    "     - Minimum number of observations in a node\n",
    "     - The proportion of classes in the node"
   ]
  },
  {
   "cell_type": "code",
   "execution_count": 5,
   "metadata": {},
   "outputs": [],
   "source": [
    "def gini_index(region):\n",
    "    \"\"\"\n",
    "    Implements the gini index over the classes in a region\n",
    "    \n",
    "    Parameters\n",
    "    ----------\n",
    "    region : array (1D)\n",
    "        array of labels assigned to points in this region\n",
    "        \n",
    "    Returns\n",
    "    -------\n",
    "    float\n",
    "        the Gini Index\n",
    "    \"\"\"\n",
    "    classes = np.unique(region)\n",
    "    N = region.shape[0]\n",
    "    gini = 0\n",
    "    for c in classes:\n",
    "        p = (region == c).sum() / N\n",
    "        gini += p*(1-p)\n",
    "    return gini"
   ]
  },
  {
   "cell_type": "code",
   "execution_count": 6,
   "metadata": {},
   "outputs": [],
   "source": [
    "def split_region_numerical(region, feature_index, tau):\n",
    "    \"\"\"\n",
    "    Given a region, splits it based on the feature indicated by\n",
    "    `feature_index`, the region will be split in two, where\n",
    "    one side will contain all points with the feature with values \n",
    "    lower than `tau`, and the other split will contain the \n",
    "    remaining datapoints.\n",
    "    \n",
    "    Parameters\n",
    "    ----------\n",
    "    region : array of size (n_samples, n_features)\n",
    "        a partition of the dataset (or the full dataset) to be split\n",
    "    feature_index : int\n",
    "        the index of the feature used to make this partition\n",
    "    tau : float\n",
    "        The threshold used to make this partition\n",
    "        \n",
    "    Return\n",
    "    ------\n",
    "    low_partition : array\n",
    "        indices of the datapoints in `region` where feature < `tau`\n",
    "    high_partition : array\n",
    "        indices of the datapoints in `region` where feature < `tau` \n",
    "    \"\"\"\n",
    "    return np.where(region[:, feature_index] < tau)[0], np.where(region[:, feature_index] >= tau)[0]\n",
    "\n",
    "def split_region_nominal(region, feature_index, tau):\n",
    "    \"\"\"\n",
    "    Given a region, splits it based on the feature indicated by\n",
    "    `feature_index`, the region will be split in two, where\n",
    "    one side will contain all points with the feature with values \n",
    "    equal `tau`, and the other split will contain the \n",
    "    remaining datapoints.\n",
    "    \n",
    "    Parameters\n",
    "    ----------\n",
    "    region : array of size (n_samples, n_features)\n",
    "        a partition of the dataset (or the full dataset) to be split\n",
    "    feature_index : int\n",
    "        the index of the feature used to make this partition\n",
    "    tau : string\n",
    "        The parameter used to make this partition\n",
    "        \n",
    "    Return\n",
    "    ------\n",
    "    low_partition : array\n",
    "        indices of the datapoints in `region` where feature = `tau`\n",
    "    high_partition : array\n",
    "        indices of the datapoints in `region` where feature != `tau` \n",
    "    \"\"\"\n",
    "    return np.where(region[:, feature_index] == tau)[0], np.where(region[:, feature_index] != tau)[0]"
   ]
  },
  {
   "cell_type": "code",
   "execution_count": 7,
   "metadata": {},
   "outputs": [],
   "source": [
    "def get_split(X, y):\n",
    "    \"\"\"\n",
    "    Given a dataset (full or partial), splits it on the feature of that minimizes the Gini Index\n",
    "    \n",
    "    Parameters\n",
    "    ----------\n",
    "    X : array (n_samples, n_features)\n",
    "        features \n",
    "    y : array (n_samples, )\n",
    "        labels\n",
    "    \n",
    "    Returns\n",
    "    -------\n",
    "    decision : dictionary\n",
    "        keys are:\n",
    "        * 'feature_index' -> an integer that indicates the feature of `X` on which the data is split\n",
    "        * 'tau' -> the threshold used to make the split\n",
    "        * 'low_region' -> array of indices where the `feature_index`th feature of X is lower than `tau`\n",
    "        * 'high_region' -> indices not in `low_region`\n",
    "    \"\"\"\n",
    "    best_gini = np.Inf \n",
    "    best_feature_index = None\n",
    "    best_tau = None\n",
    "    best_lo = None\n",
    "    best_hi = None\n",
    "    \n",
    "    for feature_index in range(X.shape[1]):\n",
    "        for tau in np.unique(X[:, feature_index]): \n",
    "            if tau is str:\n",
    "                lo, hi = split_region_nominal(X, feature_index, tau)\n",
    "                if len(lo)!=0:\n",
    "                    gini = gini_index(y[lo]) + gini_index(y[hi])\n",
    "                    if gini < best_gini:\n",
    "                        best_gini = gini\n",
    "                        best_feature_index = feature_index\n",
    "                        best_tau = tau\n",
    "                        best_lo = lo\n",
    "                        best_hi = hi\n",
    "            else:\n",
    "                lo, hi = split_region_numerical(X, feature_index, tau)\n",
    "                if len(lo)!=0:\n",
    "                    gini = gini_index(y[lo]) + gini_index(y[hi])\n",
    "                    if gini < best_gini:\n",
    "                        best_gini = gini\n",
    "                        best_feature_index = feature_index\n",
    "                        best_tau = tau\n",
    "                        best_lo = lo\n",
    "                        best_hi = hi\n",
    "        \n",
    "    return {\n",
    "        'feature_index': best_feature_index,\n",
    "        'tau': best_tau,\n",
    "        'low_region' : best_lo,\n",
    "        'high_region' : best_hi,\n",
    "    }"
   ]
  },
  {
   "cell_type": "code",
   "execution_count": 8,
   "metadata": {},
   "outputs": [],
   "source": [
    "def recursive_growth(node, min_samples, max_depth, current_depth, max_gini, X, y):\n",
    "    \"\"\"\n",
    "    Recursively grows a decision tree.\n",
    "    \n",
    "    Parameters\n",
    "    ----------\n",
    "    node : dictionary\n",
    "        If the node is terminal, it contains only the \"class\" key, which determines the value to be used as a prediction.\n",
    "        If the node is not terminal, the dictionary has the structure defined by `get_split`\n",
    "    min_samples : int\n",
    "        parameter for stopping criterion\n",
    "    max_depth : int\n",
    "        parameter for stopping criterion\n",
    "    depth : int\n",
    "        current distance from the root\n",
    "    max_gini: int\n",
    "        parameter for stopping criterion (The proportion of classes in the node)\n",
    "    X : array (n_samples, n_features)\n",
    "        features (full dataset)\n",
    "    y : array (n_samples, )\n",
    "        labels (full dataset)\n",
    "    \n",
    "    Notes\n",
    "    -----\n",
    "    To create a terminal node, a dictionary is created with a single \"class\" key, and a value that is\n",
    "    the class to which the majority of the datapoins in the node belong.\n",
    "    \n",
    "    'left' and 'right' keys are added to non-terminal nodes, which contain (possibly terminal) nodes \n",
    "    from higher levels of the tree:\n",
    "    'left' corresponds to the 'low_region' key, and 'right' to the 'high_region' key\n",
    "    \"\"\"\n",
    "    if 'low_region' in node.keys(): # not a terminal node\n",
    "        lo = node['low_region']\n",
    "        hi = node['high_region']\n",
    "       \n",
    "        # process left\n",
    "        if len(lo) < min_samples or current_depth == max_depth or gini_index(y[lo])<max_gini:\n",
    "            classes, counts = np.unique(y[lo], return_counts=True)\n",
    "            node['left'] = {'class':classes[np.argmax(counts)]}\n",
    "        else:\n",
    "            node['left'] = get_split(X[lo], y[lo])\n",
    "            recursive_growth(node['left'], min_samples, max_depth, current_depth + 1,max_gini, X, y)\n",
    "\n",
    "        # process right\n",
    "        if len(hi) < min_samples or current_depth == max_depth or gini_index(y[hi])<max_gini:\n",
    "            classes, counts = np.unique(y[hi], return_counts=True)\n",
    "            node['right'] = {'class':classes[np.argmax(counts)]}\n",
    "        else:\n",
    "            node['right'] = get_split(X[hi], y[hi])\n",
    "            recursive_growth(node['right'], min_samples, max_depth, current_depth + 1, max_gini, X, y)\n",
    "            "
   ]
  },
  {
   "cell_type": "code",
   "execution_count": 9,
   "metadata": {},
   "outputs": [],
   "source": [
    "def bootstrap(X, y, B, bp): #X_train,y_train\n",
    "    \"\"\"\n",
    "    Given a dataset creates B Bootstrap samples\n",
    "    \n",
    "    Parameters\n",
    "    ----------\n",
    "    X : array (n_samples, n_features)\n",
    "        features \n",
    "    y : array (n_samples, )\n",
    "        labels\n",
    "    B : int\n",
    "        parameter (number of sample dataset)\n",
    "    bp: float\n",
    "        parameter (proportion of the dataset in each sample dataset)\n",
    "    \n",
    "    Returns\n",
    "    -------\n",
    "    b_X_samples : list of arrays of size (n_samples,n_datapoints, n_features\n",
    "    )\n",
    "        list with all samples generated\n",
    "    b_y_samples : list\n",
    "        list with all targets of the samples generated\n",
    "    \"\"\"\n",
    "    b_X_samples = []\n",
    "    b_y_samples = []\n",
    "    n = int(np.floor(y.shape[0]*bp))\n",
    "    \n",
    "    for i in range(B):\n",
    "        index = np.random.randint(y.shape[0], size=n)\n",
    "        b_X_samples.append(X[index,:])\n",
    "        b_y_samples.append(y[index])\n",
    "        \n",
    "    return b_X_samples,b_y_samples "
   ]
  },
  {
   "cell_type": "code",
   "execution_count": 10,
   "metadata": {},
   "outputs": [],
   "source": [
    "def predict_sample(node, sample):\n",
    "    \"\"\"\n",
    "    Makes a prediction based on the decision tree defined by `node`\n",
    "    \n",
    "    Parameters\n",
    "    ----------\n",
    "    node : dictionary\n",
    "        A node created one of the methods above\n",
    "    sample : array of size (n_features,)\n",
    "        a sample datapoint\n",
    "    \"\"\"\n",
    "    if 'class' in node.keys():\n",
    "        return node['class']\n",
    "    if (sample[node['feature_index']] is not str) and (sample[node['feature_index']] < node['tau']):\n",
    "        return predict_sample(node['left'], sample)\n",
    "    if (sample[node['feature_index']] is str) and (sample[node['feature_index']]==node['tau']):\n",
    "        return predict_sample(node['left'], sample)\n",
    "    return predict_sample(node['right'], sample)\n",
    "        \n",
    "def predict(node, X):\n",
    "    \"\"\"\n",
    "    Makes a prediction based on the decision tree defined by `node`\n",
    "    \n",
    "    Parameters\n",
    "    ----------\n",
    "    node : dictionary\n",
    "        A node created one of the methods above\n",
    "    X : array of size (n_samples, n_features)\n",
    "        n_samples predictions will be made\n",
    "    \"\"\"\n",
    "    prediction = []\n",
    "    for i  in range(X.shape[0]):\n",
    "        prediction.append(predict_sample(node, X[i,:]))\n",
    "    return prediction"
   ]
  },
  {
   "cell_type": "code",
   "execution_count": 11,
   "metadata": {},
   "outputs": [],
   "source": [
    "def training_bagging(X, y, B, bp, min_samples, max_depth, max_gini):\n",
    "    \"\"\"\n",
    "    Train the bagging model (generate roots for each tree)\n",
    "    \n",
    "    Parameters\n",
    "    ----------\n",
    "    X_train : array of size (n_samples, n_features)\n",
    "        features\n",
    "    y_train : array\n",
    "        labels\n",
    "    samples : array of size (n_samples, n_features)\n",
    "        samples sampled from bootstrap\n",
    "        \n",
    "    \"\"\"\n",
    "    # Bootstrapping\n",
    "    b_X_samples,b_y_samples = bootstrap(X, y, B, bp)\n",
    "    print(\"Bootstrapping Bagg ok\")\n",
    "    \n",
    "    #Generating roots:\n",
    "    roots = []\n",
    "    aux = 0\n",
    "    for x_i,y_i in zip(b_X_samples,b_y_samples):\n",
    "        root = get_split(x_i, y_i)\n",
    "        recursive_growth(root, min_samples, max_depth, 1, max_gini, x_i, y_i)\n",
    "        aux += 1\n",
    "        print(\"tree \",aux)\n",
    "        roots.append(root)\n",
    "    print(\"Roots Bagg ok\")\n",
    "    return roots\n",
    "    "
   ]
  },
  {
   "cell_type": "code",
   "execution_count": 12,
   "metadata": {},
   "outputs": [],
   "source": [
    "def predict_bagging(roots, X_test, classes_name=[' <=50K',' >50K']):\n",
    "    \"\"\"\n",
    "    Makes the prediction for each decision tree and take the majority vote. \n",
    "    \n",
    "    Parameters\n",
    "    ----------\n",
    "    roots : list of dictionary\n",
    "        nodes for each tree after the bootstrap\n",
    "    X_test : array \n",
    "        features\n",
    "        \n",
    "    Return\n",
    "    ----------\n",
    "    maj_pred : array\n",
    "        Majorities prediction among the trees\n",
    "        \n",
    "    \"\"\"\n",
    "    preds = []\n",
    "    maj_pred = []\n",
    "    probs = []\n",
    "    \n",
    "    for root in roots:\n",
    "        preds.append(predict(root, X_test))\n",
    "    \n",
    "    for i,pred in enumerate(np.array(preds).transpose()):\n",
    "        classes, counts = np.unique(pred, return_counts=True)\n",
    "        maj_pred.append(classes[np.argmax(counts)])\n",
    "                \n",
    "        probs_each_class = np.zeros(2) \n",
    "        for i in range(len(classes)):\n",
    "            if classes[i]==classes_name[0]:\n",
    "                probs_each_class[0] = counts[i]/sum(counts)\n",
    "            elif classes[i]==classes_name[1]:\n",
    "                probs_each_class[1] = counts[i]/sum(counts)\n",
    "        probs.append(probs_each_class)\n",
    "    \n",
    "    return np.array(maj_pred),np.array(probs)"
   ]
  },
  {
   "cell_type": "markdown",
   "metadata": {},
   "source": [
    "# Part 3 – Random Forests \n",
    "\n",
    "This part uses the same data you used already in Part 2.\n",
    "Here, you will implement the Random Forest algorithm, as described in Section 8.2.2 of the\n",
    "Witten, James, Hastie & Tibshirani book. You should add the following options:\n",
    "\n",
    "* A parameter $m$ for the number of predictors (or features) to consider at each split\n",
    "* A parameter to control the number of trees in the forest\n",
    "* Parameters to control the growth of trees (could be the same as Part 2c)"
   ]
  },
  {
   "cell_type": "code",
   "execution_count": 13,
   "metadata": {},
   "outputs": [],
   "source": [
    "import random\n",
    "\n",
    "def get_split_RF(X, y, m):\n",
    "    \"\"\"\n",
    "    Given a dataset (full or partial), splits it on the feature (among m features) of that minimizes the Gini Index\n",
    "    \n",
    "    Parameters\n",
    "    ----------\n",
    "    X : array (n_samples, n_features)\n",
    "        features \n",
    "    y : array (n_samples, )\n",
    "        labels\n",
    "    m : int\n",
    "        amount of predictor to consider in each split\n",
    "    \n",
    "    Returns\n",
    "    -------\n",
    "    decision : dictionary\n",
    "        keys are:\n",
    "        * 'feature_index' -> an integer that indicates the feature of `X` on which the data is split\n",
    "        * 'tau' -> the threshold used to make the split\n",
    "        * 'low_region' -> array of indices where the `feature_index`th feature of X is lower than `tau`\n",
    "        * 'high_region' -> indices not in `low_region`\n",
    "    \"\"\"\n",
    "    best_gini = np.Inf \n",
    "    best_feature_index = None\n",
    "    best_tau = None\n",
    "    best_lo = None\n",
    "    best_hi = None\n",
    "    \n",
    "    #select m features\n",
    "    features_indexes = random.sample(range(X.shape[1]), m)\n",
    "    \n",
    "    for feature_index in features_indexes:\n",
    "        for tau in np.unique(X[:, feature_index]): \n",
    "            if tau is str:\n",
    "                lo, hi = split_region_nominal(X, feature_index, tau)\n",
    "                if len(lo)!=0:\n",
    "                    gini = gini_index(y[lo]) + gini_index(y[hi])\n",
    "                    if gini < best_gini:\n",
    "                        best_gini = gini\n",
    "                        best_feature_index = feature_index\n",
    "                        best_tau = tau\n",
    "                        best_lo = lo\n",
    "                        best_hi = hi\n",
    "                    \n",
    "            else:\n",
    "                lo, hi = split_region_numerical(X, feature_index, tau)\n",
    "                if len(lo)!=0:\n",
    "                    gini = gini_index(y[lo]) + gini_index(y[hi])\n",
    "                    \n",
    "                    if gini < best_gini:\n",
    "                        best_gini = gini\n",
    "                        best_feature_index = feature_index\n",
    "                        best_tau = tau\n",
    "                        best_lo = lo\n",
    "                        best_hi = hi\n",
    "                      \n",
    "    return {\n",
    "        'feature_index': best_feature_index,\n",
    "        'tau': best_tau,\n",
    "        'low_region' : best_lo,\n",
    "        'high_region' : best_hi,\n",
    "    }"
   ]
  },
  {
   "cell_type": "code",
   "execution_count": 14,
   "metadata": {},
   "outputs": [],
   "source": [
    "def recursive_growth_RF(node, min_samples, max_depth, current_depth, max_gini, X, y, m):\n",
    "    \"\"\"\n",
    "    Recursively grows a decision tree for Random Forest.\n",
    "    \n",
    "    Parameters\n",
    "    ----------\n",
    "    node : dictionary\n",
    "        If the node is terminal, it contains only the \"class\" key, which determines the value to be used as a prediction.\n",
    "        If the node is not terminal, the dictionary has the structure defined by `get_split`\n",
    "    min_samples : int\n",
    "        parameter for stopping criterion\n",
    "    max_depth : int\n",
    "        parameter for stopping criterion\n",
    "    depth : int\n",
    "        current distance from the root\n",
    "    max_gini: int\n",
    "        parameter for stopping criterion (The proportion of classes in the node)\n",
    "    X : array (n_samples, n_features)\n",
    "        features (full dataset)\n",
    "    y : array (n_samples, )\n",
    "        labels (full dataset)\n",
    "    \n",
    "    Notes\n",
    "    -----\n",
    "    To create a terminal node, a dictionary is created with a single \"class\" key, and a value that is\n",
    "    the class to which the majority of the datapoins in the node belong.\n",
    "    \n",
    "    'left' and 'right' keys are added to non-terminal nodes, which contain (possibly terminal) nodes \n",
    "    from higher levels of the tree:\n",
    "    'left' corresponds to the 'low_region' key, and 'right' to the 'high_region' key\n",
    "    \"\"\"\n",
    "    if 'low_region' in node.keys(): # not a terminal node\n",
    "        lo = node['low_region']\n",
    "        hi = node['high_region']\n",
    "       \n",
    "        # process left\n",
    "        if len(lo) < min_samples or current_depth == max_depth or gini_index(y[lo])<max_gini:\n",
    "            classes, counts = np.unique(y[lo], return_counts=True)\n",
    "            node['left'] = {'class':classes[np.argmax(counts)]}\n",
    "        else:\n",
    "            node['left'] = get_split_RF(X[lo], y[lo], m)\n",
    "            recursive_growth_RF(node['left'], min_samples, max_depth, current_depth + 1,max_gini, X, y, m)\n",
    "\n",
    "        # process right\n",
    "        if len(hi) < min_samples or current_depth == max_depth or gini_index(y[hi])<max_gini:\n",
    "            classes, counts = np.unique(y[hi], return_counts=True)\n",
    "            node['right'] = {'class':classes[np.argmax(counts)]}\n",
    "        else:\n",
    "            node['right'] = get_split_RF(X[hi], y[hi], m)\n",
    "            recursive_growth_RF(node['right'], min_samples, max_depth, current_depth + 1, max_gini, X, y, m)\n",
    "            "
   ]
  },
  {
   "cell_type": "code",
   "execution_count": 15,
   "metadata": {},
   "outputs": [],
   "source": [
    "def training_bagging_RF(X, y, B, bp, min_samples, max_depth, max_gini, m):\n",
    "    \"\"\"\n",
    "    Train the bagging model for Random Forest(generate roots for each tree)\n",
    "    \n",
    "    Parameters\n",
    "    ----------\n",
    "    X_train : array of size (n_samples, n_features)\n",
    "        features\n",
    "    y_train : array\n",
    "        labels\n",
    "    samples : array of size (n_samples, n_features)\n",
    "        samples sampled from bootstrap\n",
    "        \n",
    "    \"\"\"\n",
    "    # Bootstrap\n",
    "    b_X_samples,b_y_samples = bootstrap(X, y, B, bp)\n",
    "    print(\"Bootstrap RF ok\")\n",
    "    \n",
    "    #Generating roots:\n",
    "    roots = []\n",
    "    aux = 0\n",
    "    for x_i,y_i in zip(b_X_samples,b_y_samples):\n",
    "        root = get_split_RF(x_i, y_i, m)\n",
    "        recursive_growth_RF(root, min_samples, max_depth, 1, max_gini, x_i, y_i, m)\n",
    "        aux += 1\n",
    "        print(\"tree \",aux)\n",
    "        roots.append(root)\n",
    "        \n",
    "    return roots\n",
    "    "
   ]
  },
  {
   "cell_type": "markdown",
   "metadata": {},
   "source": [
    "# Part 4 – Performance comparison"
   ]
  },
  {
   "cell_type": "markdown",
   "metadata": {},
   "source": [
    "This part relies on the models you implemented in Parts 2 and 3.\n",
    "\n",
    "a) Use functions you implemented in Parts 2 and 3 to build:\n",
    "    \n",
    "* A bagged trees scikit-learn estimator\n",
    "* A random forest scikit-learn estimator"
   ]
  },
  {
   "cell_type": "code",
   "execution_count": 16,
   "metadata": {},
   "outputs": [],
   "source": [
    "from sklearn.base import BaseEstimator, ClassifierMixin\n",
    "from sklearn.mixture import GaussianMixture\n",
    "from scipy.stats import multivariate_normal\n",
    "from sklearn.utils import check_X_y"
   ]
  },
  {
   "cell_type": "code",
   "execution_count": 17,
   "metadata": {},
   "outputs": [],
   "source": [
    "class BaggedTreesClassifier(BaseEstimator, ClassifierMixin):\n",
    "    def _init_(self):\n",
    "        self.classes_ = []\n",
    "        self.roots = []\n",
    "        self.B\n",
    "        self.bp\n",
    "        self.min_samples\n",
    "        self.max_depth\n",
    "        self.max_gini\n",
    "    \n",
    "    def fit(self, X, y):\n",
    "        self.roots = training_bagging(X, y, self.B, self.bp, self.min_samples, self.max_depth, self.max_gini)\n",
    "        self.classes_ = sorted(np.unique(y))\n",
    "        return self\n",
    "    \n",
    "    \n",
    "    def predict_proba(self, X):\n",
    "        preds, probs = predict_bagging(self.roots, X)\n",
    "        return np.array(probs)\n",
    "    \n",
    "    def predict(self, X):\n",
    "        preds, probs = predict_bagging(self.roots, X)\n",
    "        return preds\n",
    "            "
   ]
  },
  {
   "cell_type": "code",
   "execution_count": 18,
   "metadata": {},
   "outputs": [],
   "source": [
    "class RFClassifier(BaseEstimator, ClassifierMixin):\n",
    "    def _init_(self):\n",
    "        self.classes_ = []\n",
    "        self.roots = []\n",
    "        self.B\n",
    "        self.bp\n",
    "        self.min_samples\n",
    "        self.max_depth\n",
    "        self.max_gini\n",
    "        self.m\n",
    "    \n",
    "    def fit(self, X, y):\n",
    "        self.roots = training_bagging_RF(X, y, self.B, self.bp, self.min_samples, self.max_depth, self.max_gini,self.m)\n",
    "        self.classes_ = sorted(np.unique(y))\n",
    "        return self\n",
    "    \n",
    "    def predict_proba(self, X):\n",
    "        preds, probs = predict_bagging(self.roots, X)\n",
    "        return np.array(probs)\n",
    "    \n",
    "    def predict(self, X):\n",
    "        preds, probs = predict_bagging(self.roots, X)\n",
    "        return preds\n",
    "            "
   ]
  },
  {
   "cell_type": "code",
   "execution_count": 27,
   "metadata": {
    "scrolled": false
   },
   "outputs": [
    {
     "name": "stdout",
     "output_type": "stream",
     "text": [
      "Bootstrapping Bagg ok\n",
      "tree  1\n",
      "tree  2\n",
      "tree  3\n",
      "tree  4\n",
      "tree  5\n",
      "tree  6\n",
      "tree  7\n",
      "tree  8\n",
      "tree  9\n",
      "tree  10\n",
      "tree  11\n",
      "tree  12\n",
      "tree  13\n",
      "tree  14\n",
      "tree  15\n",
      "Roots Bagg ok\n",
      "rf.fit ok\n",
      "bagg.predict ok\n"
     ]
    }
   ],
   "source": [
    "bagg = BaggedTreesClassifier()\n",
    "bagg.B = 15\n",
    "bagg.bp = 0.05\n",
    "bagg.min_samples = 10\n",
    "bagg.max_depth = 10\n",
    "bagg.max_gini = 0.05\n",
    "\n",
    "\n",
    "bagg.fit(X_train, y_train)\n",
    "print(\"rf.fit ok\")\n",
    "preds_bagg = bagg.predict(X_test)\n",
    "print(\"bagg.predict ok\")\n"
   ]
  },
  {
   "cell_type": "code",
   "execution_count": 28,
   "metadata": {},
   "outputs": [
    {
     "name": "stdout",
     "output_type": "stream",
     "text": [
      "Bootstrap RF ok\n",
      "tree  1\n",
      "tree  2\n",
      "tree  3\n",
      "tree  4\n",
      "tree  5\n",
      "tree  6\n",
      "tree  7\n",
      "tree  8\n",
      "tree  9\n",
      "tree  10\n",
      "tree  11\n",
      "tree  12\n",
      "tree  13\n",
      "tree  14\n",
      "tree  15\n",
      "bagg.fit ok\n",
      "rf.predict ok\n"
     ]
    }
   ],
   "source": [
    "rf = RFClassifier()\n",
    "rf.B = 15\n",
    "rf.bp = 0.05\n",
    "rf.min_samples = 10\n",
    "rf.max_depth = 10\n",
    "rf.max_gini = 0.05\n",
    "rf.m = int(np.floor(np.sqrt(X_train.shape[1])))\n",
    "\n",
    "rf.fit(X_train, y_train)\n",
    "print(\"bagg.fit ok\")\n",
    "preds_rf = rf.predict(X_test)\n",
    "print(\"rf.predict ok\")"
   ]
  },
  {
   "cell_type": "markdown",
   "metadata": {},
   "source": [
    "b) Using the dataset you built in Part 2, train both models, and compare the results using\n",
    "the following performance metrics:\n",
    "    \n",
    "* Precision\n",
    "* Recall\n",
    "* AUC-ROC\n",
    "* AUC-PR\n",
    "\n",
    "Your code will:\n",
    "- Print a table with values of the performance metric (in the columns) for each model (in the rows) on the test set.\n",
    "- Make a single figure containing 2 subplots. In the first subplot, you will plot the ROC curves for each model. In the second subplot, you will plot the PR curves for each model."
   ]
  },
  {
   "cell_type": "code",
   "execution_count": 42,
   "metadata": {},
   "outputs": [],
   "source": [
    "from sklearn.metrics import precision_score\n",
    "from sklearn.metrics import recall_score\n",
    "\n",
    "p_bagg = precision_score(y_test,preds_bagg,average='macro',zero_division=1)\n",
    "p_rf = precision_score(y_test,preds_rf,average='macro', zero_division=1)\n",
    "\n",
    "r_bagg = recall_score(y_test,preds_bagg,average='macro')\n",
    "r_rf = recall_score(y_test,preds_rf,average='macro')\n"
   ]
  },
  {
   "cell_type": "code",
   "execution_count": 43,
   "metadata": {},
   "outputs": [
    {
     "data": {
      "text/html": [
       "<pre style=\"white-space:pre;overflow-x:auto;line-height:normal;font-family:Menlo,'DejaVu Sans Mono',consolas,'Courier New',monospace\">┏━━━━━━━━━━━━━━━┳━━━━━━━━━━━┳━━━━━━━━┓\n",
       "┃<span style=\"color: #000080; text-decoration-color: #000080; font-weight: bold\">               </span>┃<span style=\"color: #000080; text-decoration-color: #000080; font-weight: bold\"> Precision </span>┃<span style=\"color: #000080; text-decoration-color: #000080; font-weight: bold\"> Recall </span>┃\n",
       "┡━━━━━━━━━━━━━━━╇━━━━━━━━━━━╇━━━━━━━━┩\n",
       "│ Bagged Tree   │ 0.89      │ 0.59   │\n",
       "│ Random Forest │ 0.88      │ 0.50   │\n",
       "└───────────────┴───────────┴────────┘\n",
       "</pre>\n"
      ],
      "text/plain": [
       "┏━━━━━━━━━━━━━━━┳━━━━━━━━━━━┳━━━━━━━━┓\n",
       "┃\u001b[1;34m \u001b[0m\u001b[1;34m             \u001b[0m\u001b[1;34m \u001b[0m┃\u001b[1;34m \u001b[0m\u001b[1;34mPrecision\u001b[0m\u001b[1;34m \u001b[0m┃\u001b[1;34m \u001b[0m\u001b[1;34mRecall\u001b[0m\u001b[1;34m \u001b[0m┃\n",
       "┡━━━━━━━━━━━━━━━╇━━━━━━━━━━━╇━━━━━━━━┩\n",
       "│ Bagged Tree   │ 0.89      │ 0.59   │\n",
       "│ Random Forest │ 0.88      │ 0.50   │\n",
       "└───────────────┴───────────┴────────┘\n"
      ]
     },
     "metadata": {},
     "output_type": "display_data"
    }
   ],
   "source": [
    "from rich.console import Console\n",
    "from rich.table import Table\n",
    "\n",
    "console = Console()\n",
    "table = Table(show_header=True, \n",
    "              header_style=\"bold blue\")\n",
    "table.add_column(\"\")\n",
    "table.add_column(\"Precision\")\n",
    "table.add_column(\"Recall\")\n",
    "\n",
    "table.add_row(\"Bagged Tree\",str(\"%.2f\" % round(p_bagg,2)),str(\"%.2f\" % round(r_bagg,2)))\n",
    "table.add_row('Random Forest',str(\"%.2f\" % round(p_rf,2)),str(\"%.2f\" % round(r_rf,2)))\n",
    "\n",
    "console.print(table)"
   ]
  },
  {
   "cell_type": "code",
   "execution_count": 30,
   "metadata": {},
   "outputs": [],
   "source": [
    "from sklearn.metrics import plot_roc_curve \n",
    "from sklearn.metrics import plot_precision_recall_curve             "
   ]
  },
  {
   "cell_type": "code",
   "execution_count": 31,
   "metadata": {},
   "outputs": [
    {
     "data": {
      "image/png": "[encoded data removed]",
      "text/plain": [
       "<Figure size 1080x360 with 2 Axes>"
      ]
     },
     "metadata": {
      "needs_background": "light"
     },
     "output_type": "display_data"
    }
   ],
   "source": [
    "fig, axs = plt.subplots(1, 2, figsize=(15, 5))\n",
    "plot_roc_curve(bagg, X_test, y_test, ax=axs[0], name='BaggedTrees')\n",
    "plot_roc_curve(rf, X_test, y_test, ax=axs[0], name='RandomForest')\n",
    "plot_precision_recall_curve(bagg, X_test, y_test, ax=axs[1], name='BaggedTrees')\n",
    "plot_precision_recall_curve(rf, X_test, y_test, ax=axs[1], name='RandomForest')\n",
    "axs[0].set_title('AUC-ROC')\n",
    "axs[1].set_title('AUC-PR')\n",
    "plt.show()"
   ]
  }
 ],
 "metadata": {
  "kernelspec": {
   "display_name": "Python 3",
   "language": "python",
   "name": "python3"
  },
  "language_info": {
   "codemirror_mode": {
    "name": "ipython",
    "version": 3
   },
   "file_extension": ".py",
   "mimetype": "text/x-python",
   "name": "python",
   "nbconvert_exporter": "python",
   "pygments_lexer": "ipython3",
   "version": "3.8.5"
  }
 },
 "nbformat": 4,
 "nbformat_minor": 4
}
