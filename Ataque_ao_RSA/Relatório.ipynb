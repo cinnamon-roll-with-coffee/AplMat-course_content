{
 "cells": [
  {
   "cell_type": "markdown",
   "metadata": {
    "id": "ohS3IAcLsCNC"
   },
   "source": [
    "> # Ataque ao RSA\n",
    "Disciplina: Álgebra e Criptografia, EMAp/FGV - 2021.2 <br>\n",
    "Professor: Luciano Guimarães Monteiro de Castro <br>\n",
    "Alunos: Carlos Eduardo Alves Pereira e Tarla Lemos de Andrade\n"
   ]
  },
  {
   "cell_type": "markdown",
   "metadata": {
    "id": "K0oVmlePsCNG"
   },
   "source": [
    "### Sumário\n",
    "\n",
    "1. [Decodificando uma mensagem RSA](#1)\n",
    "2. [Porque o RSA é seguro?](#3)\n",
    "3. [Métodos de ataque ao RSA](#5)\n",
    "4. [Ataque ao RSA na prática](#2)\n",
    "6. [Referências](#6)\n"
   ]
  },
  {
   "cell_type": "markdown",
   "metadata": {
    "id": "ZKtNPLD5sCNH"
   },
   "source": [
    "<a id='1'></a>\n",
    "### Decodificando uma mensagem RSA "
   ]
  },
  {
   "cell_type": "markdown",
   "metadata": {
    "id": "fqN1SfSlsCNH"
   },
   "source": [
    "Para codificar uma mensagem usando criptografia RSA são seguidos os seguintes passos:\n",
    "\n",
    "1. Primeiro se escolhe as chaves de codificação $n$ e $e$, onde:<br>\n",
    "    * $n$ é o produto de dois primos grandes (sejam eles $p$ e $q$);<br>\n",
    "    * $e$ é um inteiro tal que $mdc(e,\\phi(n))=1$ <br> <br>\n",
    "    \n",
    "2. A mensagem é quebrada em blocos $b_i$ menores que $n$; \n",
    "<br>\n",
    "3. Cada bloco é elevado ao expoente $e$ e encontramos sua forma reduzida $a$ no módulo $\\phi(n)$: $~~b^e \\equiv a ~ (mod~ \\phi(n))$\n",
    "\n",
    "\n",
    "A junção destes blocos codificados $a_i$ é a mensagem codificada pelo RSA. <br>\n",
    "\n",
    "Se conseguirmos encontrar um expoente $d$ que seja o inverso de $e$ módulo $\\phi(n)$, ou seja, $ed = 1+k\\phi(n)$, considerando módulo $p$ temos:\n",
    "\n",
    "$$b^{ed} \\equiv b^{1+k\\phi(n)} \\equiv b^{1+k(p-1)(q-1)}\\equiv b(b^{(p-1)})^{k(q-1)} ~~~ (mod~p)$$\n",
    "\n",
    "Pelo teorema de Fermat, assumindo que $p \\nmid b$, vale que $b^{p-1} \\equiv 1 ~~~(mod~p)$. Desta forma, obtemos:\n",
    "$$b^{ed} \\equiv b ~~~(mod~p)$$\n",
    "Aqui, se $p\\mid b$, então $b^{ed} \\equiv 0 ~~ (mod~p)$ e a equivalência continua valendo.\n",
    "\n",
    "Isto significa que se elevarmos a mensagem criptografada ao expoente $d$ módulo $p$, obtemos a mensagem inicial. \n",
    "    "
   ]
  },
  {
   "cell_type": "markdown",
   "metadata": {
    "id": "EfWhWb97sCNI"
   },
   "source": [
    "<a id='3'></a>\n",
    "### Por que o RSA é seguro?\n",
    "\n",
    "Apesar da ideia de ataque ser simples : encontrar o inverso do expoente $e$ conhecido no módulo $\\phi(n)$, não é uma tarefa barata computacionalmente, dependendo da escolha dos valores de $p,q$ e $e$.\n",
    "\n",
    "Para encontrar $\\phi(n)$ deve-se conhecer os valores de $p$ e $q$. Como só conhecemos $n$, é preciso usar um algoritmo de fatoração. É aqui que se encontra a maior dificuldade, já que para primos $p$ e $q$ muito grandes é preciso um grande poder computacional para resolver o problema, demandando muito tempo e tornando inviável o ataque."
   ]
  },
  {
   "cell_type": "markdown",
   "metadata": {
    "id": "5hut0qHVsCNI"
   },
   "source": [
    "<a id='5'></a>\n",
    "### Métodos de ataque ao RSA\n",
    "\n",
    "Foram desenvolvidos diversos métodos ao longo dos anos para atacar o RSA. Dentre eles vamos conhecer três classes de métodos e implementar os algoritmos de Fermat e Pollard p-1.\n",
    "\n",
    "* Cíclico    \n",
    "    O ataque cíclico consiste em iterar até encontrar um $k$ que satisfaça $c^{e^k} \\equiv c ~~(mod~n)$, sendo $b$ a mensagem e $c = b^e$ a mensagem criptografada. Então, para este $k$, vale $c^{e^{k-1}} \\equiv b ~~(mod~n)$. É provada a existência de $k$, porém é um ataque com este método não é usado na prática devido à dificuldade computacional em verificar se $c^{e^k}\\equiv c$, e assim passa a ser menos eficiente que os algoritmos de fatoração. \n",
    "    \n",
    "    <p> Dada a equivalência $c^{e^{k-1}} \\equiv b ~~(mod~n)$, se elevarmos ambos os lados por $e$ temos $(c^{e^{k-1}})^e \\equiv b^e ~~(mod~n)$ e então $(c^{e^{k-1}})^e \\equiv c ~~(mod~n)$.</p>\n",
    "    <p></p>\n",
    "\n",
    "* Wiener\n",
    "    <p>  &nbsp; &nbsp; É um método que usa frações contínuas para fazer o ataque.\n",
    "\n",
    "    <p> Sabendo que $ed-k\\phi(n)=1$, então $|\\dfrac{e}{\\phi(n)}-\\dfrac{k}{d}|=\\dfrac{1}{d\\phi(n)}$. Com $p$ e $q$ grandes, $\\dfrac{1}{d\\phi(n)}$ é um valor pequeno, ou seja,$\\dfrac{k}{d}$ tende a ser uma boa aproximação para $\\dfrac{e}{\\phi(n)}$. </p>\n",
    "\n",
    "    <p>O teorema de Wiener enuncia que dado $n = pq$ com $p<q<2p$ e seja $d<\\dfrac{1}{3}n^{\\dfrac{1}{4}}$ e $ed=1$ módulo $\\phi(n)$, $d$ pode ser encontrado em $\\dfrac{k}{d}$ nos convergentes de $\\dfrac{e}{n}$. Aqui, números convergentes são os números racionais da expansão de uma fração contínua</p>.\n",
    "    <p></p>\n",
    "* Fatoração:\n",
    "    <p> &nbsp; &nbsp; Este tipo de método busca encontrar quem são os fatores primos de <b>n</b>, ou seja, quem são <b>p</b>, <b>q</b>. Em geral, após obter esses fatores, calcula-se $\\varphi(n)=(p-1)(q-1)$ e aplica-se o algoritmo de Euclides Estendido (recebendo $\\varphi$ e <b>e</b> como entradas) que retornará <b>d</b>.</p>\n",
    "    <p> </p>\n",
    "    \n",
    "    * Fermat\n",
    "    \n",
    "    <p> &nbsp; &nbsp; &nbsp; Se baseia no fato de que $n = p q$ é um número composto ímpar. Assim, podemos escrever $n = p q = (\\frac{p+q}{2})^2 - (\\frac{p-q}{2})^2 = x^2 - y^2 = (x-y)(x+y)$. Ele se mostra eficiente quando ambos os fatores são próximos da raiz quadrada de $n$ .</p>\n",
    "    <p> </p>\n",
    "    \n",
    "    * Pollard\n",
    "    <p>Seja $n=pq$, com $p$ e $q$ primos. Euler-Fermat garante que $a^{p-1} \\equiv 1 ~(mod~p) $ para todo $a$ primo com $p$. Suponha que $p-1$ é um fator de $L$. Então $a^L \\equiv a^{(p-1)k} \\equiv 1~(mod~p)$, e assim, $p$ divide $a^L-1$. Uma vez que $p$ é fator de $n$, o mdc de $a^L-1$ e $n$ é um múltiplo de $p$. Como encontrar $L$? Escolhemos um número primo com $n$ e vamos avaliar $a^{k!}$ para $k=1,2,3...$. Agora, encontramos o mdc de $a^{k!}-1~mod(n)$ e $n$, este mdc é o fator de $n$</p>\n"
   ]
  },
  {
   "cell_type": "markdown",
   "metadata": {
    "id": "Ixn0Q4fzsCNK"
   },
   "source": [
    "<a id='2'></a>\n",
    "### Ataque ao RSA na prática"
   ]
  },
  {
   "cell_type": "code",
   "execution_count": 1,
   "metadata": {
    "id": "Lquiafz0sCNL"
   },
   "outputs": [],
   "source": [
    "import numpy\n",
    "import math\n",
    "import pandas as pd\n",
    "import matplotlib.pyplot as plt"
   ]
  },
  {
   "cell_type": "markdown",
   "metadata": {
    "id": "92vXcmwgsCNM"
   },
   "source": [
    "Para a melhor visualização do processo de ataque à criptografia RSA optamos por implementar o algoritmo do RSA ao invés de usarmos a biblioteca do Python. A implementação se encontra no arquivo _RSA.py_."
   ]
  },
  {
   "cell_type": "code",
   "execution_count": 2,
   "metadata": {
    "id": "h4g-0NBhsCNN"
   },
   "outputs": [],
   "source": [
    "import RSA"
   ]
  },
  {
   "cell_type": "markdown",
   "metadata": {
    "id": "oWQ_fZugsCNN"
   },
   "source": [
    "Para a pré-codificação da mensagem , ou seja, para transformar os caracteres em códigos, usamos os seguintes dicionário:"
   ]
  },
  {
   "cell_type": "code",
   "execution_count": 3,
   "metadata": {
    "id": "_xEOOKGLsCNO"
   },
   "outputs": [],
   "source": [
    "preCodificador,posDecodificador = RSA.dict_codificador()\n",
    "#preCodificador"
   ]
  },
  {
   "cell_type": "markdown",
   "metadata": {
    "id": "pgcPpRqSsCNO"
   },
   "source": [
    "Agora basta escolher a mensagem para ser enviada sigilosamente que a função _cripto_RSA()_ irá criptografá-la:"
   ]
  },
  {
   "cell_type": "code",
   "execution_count": 26,
   "metadata": {
    "colab": {
     "base_uri": "https://localhost:8080/"
    },
    "id": "aHeGzD_VsCNO",
    "outputId": "59f7daee-4021-4de5-fe7d-2731f8e4864f"
   },
   "outputs": [
    {
     "name": "stdout",
     "output_type": "stream",
     "text": [
      "Localização da área 51: Condado de Lincoln, Nevada, Força Aérea dos Estados Unidos - 37° 14' 06\" N 115° 48' 40\" O\n"
     ]
    }
   ],
   "source": [
    "mensagem = input()"
   ]
  },
  {
   "cell_type": "code",
   "execution_count": 27,
   "metadata": {
    "colab": {
     "base_uri": "https://localhost:8080/"
    },
    "id": "sG_SZkJRsCNP",
    "outputId": "443ee573-9b0a-4ae6-ad73-6c789b631295",
    "scrolled": false
   },
   "outputs": [
    {
     "name": "stdout",
     "output_type": "stream",
     "text": [
      "Digite o valor de p: \n",
      "337\n",
      "Digite o valor de q: \n",
      "241\n",
      "Digite o valor de e: \n",
      "61\n",
      "\u001b[1m\n",
      " Então a chave de codificação é \n",
      "\u001b[1mn : 81217\n",
      "\u001b[1me : 61\n"
     ]
    }
   ],
   "source": [
    "msg_criptografada,p,q,e,n = RSA.cripto_RSA(mensagem,preCodificador)\n",
    "#56248799, 7878569899, 845653\n",
    "#1063, 9181, 257\n",
    "#337, 241,61"
   ]
  },
  {
   "cell_type": "markdown",
   "metadata": {
    "id": "UyVqb0XasCNQ"
   },
   "source": [
    "E agora sua mensagem foi transformada e se alguém interceptá-la verá o código a seguir, que passado pelo dicionário de codificação exibirá esta mensagem sem sentido:"
   ]
  },
  {
   "cell_type": "code",
   "execution_count": 28,
   "metadata": {
    "colab": {
     "base_uri": "https://localhost:8080/",
     "height": 72
    },
    "id": "2-wbeZnBsCNQ",
    "outputId": "60ca74b6-00bd-4b9d-d7e0-773f45ee33aa"
   },
   "outputs": [
    {
     "name": "stdout",
     "output_type": "stream",
     "text": [
      "[13515, 32433, 20697, 14252, 19680, 17766, 75302, 22466, 47756, 37625, 11102, 53834, 8234, 31680, 69811, 60180, 70177, 45349, 44070, 53834, 72225, 26795, 46584, 69456, 13515, 40197, 21012, 12815, 1, 8234, 47869, 7179, 53421, 36808, 60180, 74049, 17766, 75302, 40197, 78304, 56813, 56634, 40197, 22008, 46584, 13515, 3333, 23171, 28368, 80861, 8234, 39385, 50240, 38175, 75302, 30038, 22152, 26591, 44070, 21458, 12783, 12131, 15350, 31680, 69811, 58054, 8234, 47869, 64603, 27210, 9245, 79876, 60794, 1, 8234, 47869, 11455, 54040, 13515, 40197, 50605, 8234, 56813, 64916, 10341, 46584, 80252, 63888, 60180, 51855, 16748, 66533, 37299, 25413, 72289, 77655, 51216, 53834, 80416, 36275, 11805, 58054, 35961, 35840, 39792, 25534, 11805, 7096, 13515, 48436]\n"
     ]
    },
    {
     "data": {
      "text/plain": [
       "'8q***f***********J******P**ª**************²àU**Ì**`*é**^*********************1***Ì****[****p*****0*éO****v************(********²**Ì*9**********&***********í*****R*******û*R**8r*'"
      ]
     },
     "execution_count": 28,
     "metadata": {},
     "output_type": "execute_result"
    }
   ],
   "source": [
    "print(msg_criptografada)\n",
    "#RSA.dict_decodificador(msg_criptografada,posDecodificador)\n",
    "RSA.decodificador(msg_criptografada,1,n,posDecodificador)"
   ]
  },
  {
   "cell_type": "markdown",
   "metadata": {
    "id": "sMLlySqFsCNQ"
   },
   "source": [
    "Agora vamos tentar descobrir a mensagem sem saber a chave de decodificação com cada algoritmo:\n",
    "\n",
    "## <span style=\"color:gray\">Algoritmo Fermat</span>"
   ]
  },
  {
   "cell_type": "code",
   "execution_count": 12,
   "metadata": {
    "id": "CZw9wXfIsCNQ"
   },
   "outputs": [],
   "source": [
    "def algoritmoFermat(n):\n",
    "    if n%2 == 0:\n",
    "        return([2,int(n/2)])\n",
    "    x = math.ceil(math.sqrt(n))\n",
    "    if n == x**2:\n",
    "        return ([x,x]) \n",
    "    y = x**2 - n \n",
    "    z = int(math.sqrt(y)) \n",
    "    while z**2 != y: \n",
    "        x += 1\n",
    "        y = x**2 - n \n",
    "        z = int(math.sqrt(y))\n",
    "    return(x-z,x+z)"
   ]
  },
  {
   "cell_type": "markdown",
   "metadata": {
    "id": "Qj7KlNEUsCNR"
   },
   "source": [
    "Com o algoritmo de Fermat é possível fatorar $n$ e assim fica fácil encontrar $\\phi(n)$ para decriptografar a mensagem:"
   ]
  },
  {
   "cell_type": "code",
   "execution_count": 29,
   "metadata": {
    "colab": {
     "base_uri": "https://localhost:8080/"
    },
    "id": "NQifxRqXsCNR",
    "outputId": "29150de3-4ecf-43eb-944c-2bb7cadcdd8b"
   },
   "outputs": [
    {
     "name": "stdout",
     "output_type": "stream",
     "text": [
      "p: 241\n",
      "q: 337\n"
     ]
    }
   ],
   "source": [
    "p,q = algoritmoFermat(n)\n",
    "print(\"p:\",p)\n",
    "print(\"q:\",q)"
   ]
  },
  {
   "cell_type": "markdown",
   "metadata": {
    "id": "kdkzWmsCsCNS"
   },
   "source": [
    "Com $p$ e $q$ conhecidos, vamos encontrar o inverso de $e$ no módulo $\\phi(n)$, ou seja, o expoente decodificador.<br>\n",
    "Para isto, basta usar o algoritmo de Euclides estendido:"
   ]
  },
  {
   "cell_type": "code",
   "execution_count": 30,
   "metadata": {
    "colab": {
     "base_uri": "https://localhost:8080/"
    },
    "id": "hIK_hSZhsCNS",
    "outputId": "46b60749-7b43-4b5e-9d15-67fa1eff971c"
   },
   "outputs": [
    {
     "name": "stdout",
     "output_type": "stream",
     "text": [
      "Expoente decodificador(d) = 40981\n"
     ]
    }
   ],
   "source": [
    "mdc,x,d = RSA.EuclidesEstendido((p-1)*(q-1), e)\n",
    "print(\"Expoente decodificador(d) =\",d)"
   ]
  },
  {
   "cell_type": "markdown",
   "metadata": {
    "id": "od75atP7sCNS"
   },
   "source": [
    "E agora que temos a chave privada, é só decriptografar a mensagem:"
   ]
  },
  {
   "cell_type": "code",
   "execution_count": 31,
   "metadata": {
    "colab": {
     "base_uri": "https://localhost:8080/"
    },
    "id": "Mxp_Aa5qsCNT",
    "outputId": "40200dff-7fdf-46f4-baab-e3639f553db7"
   },
   "outputs": [
    {
     "name": "stdout",
     "output_type": "stream",
     "text": [
      "Mensagem interceptada: Localização da área 51: Condado de Lincoln, Nevada, Força Aérea dos Estados Unidos - 37° 14' 06\" N 115° 48' 40\" O\n"
     ]
    }
   ],
   "source": [
    "msg = RSA.decodificador(msg_criptografada,d,n,posDecodificador)\n",
    "print(\"Mensagem interceptada:\",msg)"
   ]
  },
  {
   "cell_type": "markdown",
   "metadata": {
    "id": "5KCpHWxLsCNT"
   },
   "source": [
    "## <span style=\"color:gray\">Método Pollard p-1</span>"
   ]
  },
  {
   "cell_type": "code",
   "execution_count": 16,
   "metadata": {
    "id": "RddRh3jKsCNT"
   },
   "outputs": [],
   "source": [
    "def pollard(n): \n",
    "    a = 2 #base geralmente usada \n",
    "    i = 2 #expoente\n",
    "   \n",
    "    while(True):  \n",
    "        a = (a**i) % n  \n",
    "        p = math.gcd((a-1), n)\n",
    "        if (p > 1):  \n",
    "            q = n//p\n",
    "            return p , q\n",
    "            break \n",
    "        i += 1"
   ]
  },
  {
   "cell_type": "markdown",
   "metadata": {
    "id": "wBMhjfNwsCNT"
   },
   "source": [
    "Com o método Pollard p-1 fatoramos $n$:"
   ]
  },
  {
   "cell_type": "code",
   "execution_count": 32,
   "metadata": {
    "colab": {
     "base_uri": "https://localhost:8080/",
     "height": 316
    },
    "id": "IaIBX_9BsCNT",
    "outputId": "a5517ab6-27f8-4eb2-aed5-4688bd4997a2"
   },
   "outputs": [
    {
     "name": "stdout",
     "output_type": "stream",
     "text": [
      "p: 241\n",
      "q: 337\n"
     ]
    }
   ],
   "source": [
    "p, q = pollard(n)\n",
    "print(\"p:\",p)\n",
    "print(\"q:\",q)"
   ]
  },
  {
   "cell_type": "markdown",
   "metadata": {
    "id": "EPDD7h3ZsCNU"
   },
   "source": [
    "Decodificando a mensagem:"
   ]
  },
  {
   "cell_type": "code",
   "execution_count": 33,
   "metadata": {
    "colab": {
     "base_uri": "https://localhost:8080/"
    },
    "id": "qh_lQTIRsCNU",
    "outputId": "66adc34a-f2f4-43d4-bc44-eed16ce6f3bf"
   },
   "outputs": [
    {
     "name": "stdout",
     "output_type": "stream",
     "text": [
      "Expoente decodificador(d) = 40981 \n",
      "\n",
      "Mensagem interceptada: Localização da área 51: Condado de Lincoln, Nevada, Força Aérea dos Estados Unidos - 37° 14' 06\" N 115° 48' 40\" O\n"
     ]
    }
   ],
   "source": [
    "mdc,x,d = RSA.EuclidesEstendido((p-1)*(q-1), e)\n",
    "print(\"Expoente decodificador(d) =\",d,\"\\n\")\n",
    "msg = RSA.decodificador(msg_criptografada,d,n,posDecodificador)\n",
    "print(\"Mensagem interceptada:\",msg)"
   ]
  },
  {
   "cell_type": "markdown",
   "metadata": {
    "id": "c9ojAHwvsCNU"
   },
   "source": [
    "## <span style=\"color:gray\">Performance de cada algoritmo</span>"
   ]
  },
  {
   "cell_type": "markdown",
   "metadata": {
    "id": "i5xAFZO-sCNU"
   },
   "source": [
    "A fatoração de Fermat tem melhor desempenho quando os primos $p$ e $q$ são próximos:"
   ]
  },
  {
   "cell_type": "code",
   "execution_count": 20,
   "metadata": {
    "id": "QloekiMosCNU"
   },
   "outputs": [],
   "source": [
    "from datetime import datetime\n",
    "primos = numpy.loadtxt(\"primos.csv\", dtype ='int64')"
   ]
  },
  {
   "cell_type": "code",
   "execution_count": null,
   "metadata": {
    "id": "VWwfZ1tcsCNV"
   },
   "outputs": [],
   "source": [
    "#Primos maiores\n",
    "ps = numpy.array([], dtype='int64')\n",
    "qs = numpy.array([], dtype='int64')\n",
    "tf = []\n",
    "tp = []\n",
    "\n",
    "#escolhendo primos\n",
    "aux = math.floor(len(primos)/100)\n",
    "for i in range(50):\n",
    "    ps = numpy.concatenate((ps,primos[numpy.random.randint(aux*i,aux*(i+1),2)]))\n",
    "    qs = numpy.concatenate((qs,primos[numpy.random.randint(aux*i,aux*(i+1),2)]))\n",
    "       \n",
    "ns = ps*qs\n",
    "dist = abs(ps-qs)\n",
    "\n",
    "ctrl = 0\n",
    "for n in ns:\n",
    "    start_time = datetime.now()\n",
    "    p,q = pollard(int(n))\n",
    "    end_time = datetime.now()\n",
    "    tp.append(end_time-start_time)\n",
    "    \n",
    "    #start_time = datetime.now()\n",
    "    #p,q = algoritmoFermat(int(n))\n",
    "    #end_time = datetime.now()\n",
    "    #tf.append(end_time-start_time)  \n",
    "    "
   ]
  },
  {
   "cell_type": "code",
   "execution_count": 21,
   "metadata": {
    "colab": {
     "base_uri": "https://localhost:8080/"
    },
    "id": "etoaTjLzsCNU",
    "outputId": "55104171-7527-4f21-953f-e547f6859bfc"
   },
   "outputs": [],
   "source": [
    "#Primos menores\n",
    "d1 = [] \n",
    "tf = []\n",
    "Pl =[]\n",
    "Ql =[]\n",
    "tp=[]\n",
    "for i in range(1,100):\n",
    "    p = primos[500+i]\n",
    "    q = primos[500-i]\n",
    "    n = int(p*q)\n",
    "    e = int(primos[50])\n",
    "    \n",
    "    d1.append(p-q)\n",
    "    Pl.append(p)\n",
    "    Ql.append(q)\n",
    "   \n",
    "    start_time = datetime.now()\n",
    "    p,q = algoritmoFermat(n)\n",
    "    end_time = datetime.now()\n",
    "    \n",
    "    tf.append(end_time-start_time)\n",
    "    \n",
    "    start_time = datetime.now()\n",
    "    p,q = pollard(int(n))\n",
    "    end_time = datetime.now()\n",
    "    tp.append(end_time-start_time)\n",
    "    "
   ]
  },
  {
   "cell_type": "code",
   "execution_count": 34,
   "metadata": {},
   "outputs": [],
   "source": [
    "#Transforamndo o tempo de microsegundo para segundo*10^6\n",
    "Tf=[tf[i].total_seconds()*10**6 for i in range(len(tf))]\n",
    "Tp=[tp[i].total_seconds()*10**6 for i in range(len(tp))]"
   ]
  },
  {
   "cell_type": "markdown",
   "metadata": {},
   "source": [
    "#### Mostrando como o algoritmo de Fermat se comporta em relação a distância existente entre os primos"
   ]
  },
  {
   "cell_type": "code",
   "execution_count": 67,
   "metadata": {
    "id": "sK50kdAnsCNV",
    "outputId": "4d7abca9-cb09-40da-8a65-e9dd58fb1767"
   },
   "outputs": [
    {
     "data": {
      "text/plain": [
       "<function matplotlib.pyplot.show>"
      ]
     },
     "execution_count": 67,
     "metadata": {},
     "output_type": "execute_result"
    },
    {
     "data": {
      "image/png": "[encoded data removed]",
      "text/plain": [
       "<Figure size 432x288 with 1 Axes>"
      ]
     },
     "metadata": {},
     "output_type": "display_data"
    }
   ],
   "source": [
    "plt.scatter(d1,Tf)\n",
    "plt.xlabel('Distância')\n",
    "plt.ylabel('tempo em segundos *10-6')\n",
    "plt.legend('Fermat', shadow=True)\n",
    "plt.title('Performance de Fermat em relação a distância entre os primos')\n",
    "plt.show"
   ]
  },
  {
   "cell_type": "markdown",
   "metadata": {},
   "source": [
    "#### Comparativo entre os tempos do algoritmo de Pollard p-1 e o de Fermat"
   ]
  },
  {
   "cell_type": "code",
   "execution_count": 87,
   "metadata": {},
   "outputs": [
    {
     "data": {
      "text/plain": [
       "<function matplotlib.pyplot.show>"
      ]
     },
     "execution_count": 87,
     "metadata": {},
     "output_type": "execute_result"
    },
    {
     "data": {
      "image/png": "[encoded data removed]",
      "text/plain": [
       "<Figure size 432x288 with 1 Axes>"
      ]
     },
     "metadata": {},
     "output_type": "display_data"
    }
   ],
   "source": [
    "ns=[abs(Ql[i]*Pl[i]) for i in range(len(Ql))]\n",
    "plt.scatter(ns[0:len(Tp)],Tp)\n",
    "plt.scatter(ns[0:len(Tf)],Tf)\n",
    "plt.xlabel('Multiplicação entre os primos')\n",
    "plt.ylabel('tempo em segundos *10-6')\n",
    "plt.legend(('Pollard p-1', 'Fermat'), shadow=True)\n",
    "plt.title('Performance entre os algoritmos Pollard p-1 e Fermat')\n",
    "plt.show"
   ]
  },
  {
   "cell_type": "markdown",
   "metadata": {
    "id": "imEsg8NBsCNW"
   },
   "source": [
    "<a id='6'></a>\n",
    "### Referências\n",
    "\n",
    "* Coutinho S. C., Números Inteiros e Criptografia RSA\n",
    "* Alfred J. Menezes, Paul C. van Oorschot and Scott A. Vanstone, A Handbook of Applied Cryptography\n",
    "* winer's attack. Disponível em: https://en.wikipedia.org/wiki/Wiener%27s_attack"
   ]
  }
 ],
 "metadata": {
  "colab": {
   "collapsed_sections": [],
   "name": "Relatório.ipynb",
   "provenance": [],
   "toc_visible": true
  },
  "kernelspec": {
   "display_name": "Python 3",
   "language": "python",
   "name": "python3"
  },
  "language_info": {
   "codemirror_mode": {
    "name": "ipython",
    "version": 3
   },
   "file_extension": ".py",
   "mimetype": "text/x-python",
   "name": "python",
   "nbconvert_exporter": "python",
   "pygments_lexer": "ipython3",
   "version": "3.8.5"
  }
 },
 "nbformat": 4,
 "nbformat_minor": 1
}
